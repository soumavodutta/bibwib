{
 "cells": [
  {
   "cell_type": "raw",
   "id": "35edd8db",
   "metadata": {},
   "source": [
    "Suppose the IQ in a certain population is normally distribute with a mean of μ = 100 and standard deviation of σ = 15. A \n",
    "\n",
    "researcher wants to know if a new drug affects IQ levels. so he recruits 20 pateients to try it and records their IQ levels.\n",
    "\n",
    "The following code show how to perform a one sample z-test in Python to determine if the new drug causes a significant \n",
    "\n",
    "difference in IQ levels:"
   ]
  },
  {
   "cell_type": "code",
   "execution_count": 2,
   "id": "6d5acf67",
   "metadata": {},
   "outputs": [
    {
     "data": {
      "text/plain": [
       "(-2.2580026843811565, 0.023945492077753237)"
      ]
     },
     "execution_count": 2,
     "metadata": {},
     "output_type": "execute_result"
    }
   ],
   "source": [
    "from statsmodels.stats.weightstats import ztest as ztest\n",
    "#IQ level od 20 patient\n",
    "data = [88, 92, 93, 94, 96, 97, 98, 99, 100, 101, 101, 104, 105, 106, 106, 107, 109, 110, 111, 113]\n",
    "\n",
    "ztest(data,value=105)\n"
   ]
  },
  {
   "cell_type": "code",
   "execution_count": 3,
   "id": "4912f287",
   "metadata": {},
   "outputs": [],
   "source": [
    "## t-test"
   ]
  },
  {
   "cell_type": "code",
   "execution_count": 7,
   "id": "7000bf09",
   "metadata": {},
   "outputs": [],
   "source": [
    "ages = [10,15,20,21, 22,24,26,27, 28, 29, 31,35,38,39, 40,45,47,48,49,51,53,56,57,59,60,61,62,64,66,67,68,69,71,76,77,81,87,91]"
   ]
  },
  {
   "cell_type": "code",
   "execution_count": 8,
   "id": "285a740c",
   "metadata": {},
   "outputs": [
    {
     "data": {
      "text/plain": [
       "49.21052631578947"
      ]
     },
     "execution_count": 8,
     "metadata": {},
     "output_type": "execute_result"
    }
   ],
   "source": [
    "import numpy as np\n",
    "ages_mean=np.mean(ages)\n",
    "ages_mean"
   ]
  },
  {
   "cell_type": "code",
   "execution_count": 26,
   "id": "d9390b08",
   "metadata": {},
   "outputs": [],
   "source": [
    "sample_size=9\n",
    "age_sample=np.random.choice(ages,sample_size)"
   ]
  },
  {
   "cell_type": "code",
   "execution_count": 33,
   "id": "7f4735fe",
   "metadata": {},
   "outputs": [
    {
     "data": {
      "text/plain": [
       "array([67, 20, 91, 45, 45, 21, 67, 29, 56])"
      ]
     },
     "execution_count": 33,
     "metadata": {},
     "output_type": "execute_result"
    }
   ],
   "source": [
    "age_sample"
   ]
  },
  {
   "cell_type": "code",
   "execution_count": 34,
   "id": "76db57c3",
   "metadata": {},
   "outputs": [
    {
     "data": {
      "text/plain": [
       "49.0"
      ]
     },
     "execution_count": 34,
     "metadata": {},
     "output_type": "execute_result"
    }
   ],
   "source": [
    "np.mean(age_sample)"
   ]
  },
  {
   "cell_type": "code",
   "execution_count": 10,
   "id": "d861f03c",
   "metadata": {},
   "outputs": [],
   "source": [
    "from scipy.stats import ttest_1samp"
   ]
  },
  {
   "cell_type": "code",
   "execution_count": 35,
   "id": "f9700033",
   "metadata": {},
   "outputs": [
    {
     "data": {
      "text/plain": [
       "Ttest_1sampResult(statistic=2.398538731771652, pvalue=0.04327529973994045)"
      ]
     },
     "execution_count": 35,
     "metadata": {},
     "output_type": "execute_result"
    }
   ],
   "source": [
    "ttest_1samp(age_sample,30)"
   ]
  },
  {
   "cell_type": "code",
   "execution_count": 36,
   "id": "7b56f09e",
   "metadata": {},
   "outputs": [
    {
     "data": {
      "text/plain": [
       "Ttest_1sampResult(statistic=2.2722998511520913, pvalue=0.05270092193843414)"
      ]
     },
     "execution_count": 36,
     "metadata": {},
     "output_type": "execute_result"
    }
   ],
   "source": [
    "ttest_1samp(age_sample,31)"
   ]
  },
  {
   "cell_type": "code",
   "execution_count": 37,
   "id": "91dbaca9",
   "metadata": {},
   "outputs": [
    {
     "data": {
      "text/plain": [
       "Ttest_1sampResult(statistic=2.6510164930107734, pvalue=0.029209699637822256)"
      ]
     },
     "execution_count": 37,
     "metadata": {},
     "output_type": "execute_result"
    }
   ],
   "source": [
    "ttest_1samp(age_sample,28)"
   ]
  },
  {
   "cell_type": "code",
   "execution_count": 38,
   "id": "02922a2e",
   "metadata": {},
   "outputs": [
    {
     "data": {
      "text/plain": [
       "Ttest_1sampResult(statistic=2.5247776123912127, pvalue=0.03554332159386397)"
      ]
     },
     "execution_count": 38,
     "metadata": {},
     "output_type": "execute_result"
    }
   ],
   "source": [
    "ttest_1samp(age_sample,29)"
   ]
  },
  {
   "cell_type": "code",
   "execution_count": 39,
   "id": "96963657",
   "metadata": {},
   "outputs": [],
   "source": [
    "## Consider another example\n",
    "## Ages of the college students(population)\n",
    "# 1 class student mean of all the ages"
   ]
  },
  {
   "cell_type": "code",
   "execution_count": 44,
   "id": "838eecdc",
   "metadata": {},
   "outputs": [],
   "source": [
    "import numpy as np\n",
    "import pandas as pd\n",
    "import scipy.stats as stats\n",
    "import math\n",
    "np.random.seed(6)\n",
    "school_ages=stats.poisson.rvs(loc=18,mu=35,size=1500)\n",
    "classA_ages=stats.poisson.rvs(loc=18,mu=30,size=60)"
   ]
  },
  {
   "cell_type": "code",
   "execution_count": 45,
   "id": "1a6e15fe",
   "metadata": {},
   "outputs": [
    {
     "data": {
      "text/plain": [
       "array([62, 59, 44, ..., 45, 52, 50])"
      ]
     },
     "execution_count": 45,
     "metadata": {},
     "output_type": "execute_result"
    }
   ],
   "source": [
    "school_ages"
   ]
  },
  {
   "cell_type": "code",
   "execution_count": 46,
   "id": "52d03a4d",
   "metadata": {},
   "outputs": [
    {
     "data": {
      "text/plain": [
       "array([52, 46, 40, 40, 47, 50, 51, 45, 44, 52, 46, 53, 43, 44, 51, 50, 54,\n",
       "       42, 54, 45, 61, 53, 49, 46, 47, 41, 45, 51, 43, 45, 48, 50, 40, 52,\n",
       "       44, 55, 54, 40, 45, 46, 54, 42, 46, 35, 51, 51, 46, 48, 47, 35, 52,\n",
       "       52, 39, 44, 48, 40, 42, 46, 47, 45])"
      ]
     },
     "execution_count": 46,
     "metadata": {},
     "output_type": "execute_result"
    }
   ],
   "source": [
    "classA_ages"
   ]
  },
  {
   "cell_type": "code",
   "execution_count": 47,
   "id": "3f54d647",
   "metadata": {},
   "outputs": [
    {
     "data": {
      "text/plain": [
       "46.9"
      ]
     },
     "execution_count": 47,
     "metadata": {},
     "output_type": "execute_result"
    }
   ],
   "source": [
    "classA_ages.mean()"
   ]
  },
  {
   "cell_type": "code",
   "execution_count": 57,
   "id": "11d7e99e",
   "metadata": {},
   "outputs": [],
   "source": [
    "_,p_value=ttest_1samp(classA_ages,popmean=school_ages.mean())"
   ]
  },
  {
   "cell_type": "code",
   "execution_count": 58,
   "id": "1bb94fa3",
   "metadata": {},
   "outputs": [
    {
     "data": {
      "text/plain": [
       "53.303333333333335"
      ]
     },
     "execution_count": 58,
     "metadata": {},
     "output_type": "execute_result"
    }
   ],
   "source": [
    "school_ages.mean()"
   ]
  },
  {
   "cell_type": "code",
   "execution_count": 71,
   "id": "f1a391ff",
   "metadata": {},
   "outputs": [
    {
     "name": "stdout",
     "output_type": "stream",
     "text": [
      "Reject the H0 value  \n"
     ]
    }
   ],
   "source": [
    "if p_value<0.05:\n",
    "    print(\"Reject the H0 value  \")\n",
    "else:\n",
    "    print(\"Accpet the H0 value  \")"
   ]
  },
  {
   "cell_type": "code",
   "execution_count": 67,
   "id": "e61a5070",
   "metadata": {},
   "outputs": [],
   "source": [
    "import seaborn as sns"
   ]
  },
  {
   "cell_type": "code",
   "execution_count": 68,
   "id": "c9bcac7c",
   "metadata": {
    "scrolled": true
   },
   "outputs": [
    {
     "data": {
      "text/html": [
       "<div>\n",
       "<style scoped>\n",
       "    .dataframe tbody tr th:only-of-type {\n",
       "        vertical-align: middle;\n",
       "    }\n",
       "\n",
       "    .dataframe tbody tr th {\n",
       "        vertical-align: top;\n",
       "    }\n",
       "\n",
       "    .dataframe thead th {\n",
       "        text-align: right;\n",
       "    }\n",
       "</style>\n",
       "<table border=\"1\" class=\"dataframe\">\n",
       "  <thead>\n",
       "    <tr style=\"text-align: right;\">\n",
       "      <th></th>\n",
       "      <th>sepal_length</th>\n",
       "      <th>sepal_width</th>\n",
       "      <th>petal_length</th>\n",
       "      <th>petal_width</th>\n",
       "      <th>species</th>\n",
       "    </tr>\n",
       "  </thead>\n",
       "  <tbody>\n",
       "    <tr>\n",
       "      <th>0</th>\n",
       "      <td>5.1</td>\n",
       "      <td>3.5</td>\n",
       "      <td>1.4</td>\n",
       "      <td>0.2</td>\n",
       "      <td>setosa</td>\n",
       "    </tr>\n",
       "    <tr>\n",
       "      <th>1</th>\n",
       "      <td>4.9</td>\n",
       "      <td>3.0</td>\n",
       "      <td>1.4</td>\n",
       "      <td>0.2</td>\n",
       "      <td>setosa</td>\n",
       "    </tr>\n",
       "    <tr>\n",
       "      <th>2</th>\n",
       "      <td>4.7</td>\n",
       "      <td>3.2</td>\n",
       "      <td>1.3</td>\n",
       "      <td>0.2</td>\n",
       "      <td>setosa</td>\n",
       "    </tr>\n",
       "    <tr>\n",
       "      <th>3</th>\n",
       "      <td>4.6</td>\n",
       "      <td>3.1</td>\n",
       "      <td>1.5</td>\n",
       "      <td>0.2</td>\n",
       "      <td>setosa</td>\n",
       "    </tr>\n",
       "    <tr>\n",
       "      <th>4</th>\n",
       "      <td>5.0</td>\n",
       "      <td>3.6</td>\n",
       "      <td>1.4</td>\n",
       "      <td>0.2</td>\n",
       "      <td>setosa</td>\n",
       "    </tr>\n",
       "  </tbody>\n",
       "</table>\n",
       "</div>"
      ],
      "text/plain": [
       "   sepal_length  sepal_width  petal_length  petal_width species\n",
       "0           5.1          3.5           1.4          0.2  setosa\n",
       "1           4.9          3.0           1.4          0.2  setosa\n",
       "2           4.7          3.2           1.3          0.2  setosa\n",
       "3           4.6          3.1           1.5          0.2  setosa\n",
       "4           5.0          3.6           1.4          0.2  setosa"
      ]
     },
     "execution_count": 68,
     "metadata": {},
     "output_type": "execute_result"
    }
   ],
   "source": [
    "df=sns.load_dataset('iris')\n",
    "df.head()"
   ]
  },
  {
   "cell_type": "code",
   "execution_count": 69,
   "id": "a2e3a1ff",
   "metadata": {
    "scrolled": false
   },
   "outputs": [
    {
     "data": {
      "text/html": [
       "<div>\n",
       "<style scoped>\n",
       "    .dataframe tbody tr th:only-of-type {\n",
       "        vertical-align: middle;\n",
       "    }\n",
       "\n",
       "    .dataframe tbody tr th {\n",
       "        vertical-align: top;\n",
       "    }\n",
       "\n",
       "    .dataframe thead th {\n",
       "        text-align: right;\n",
       "    }\n",
       "</style>\n",
       "<table border=\"1\" class=\"dataframe\">\n",
       "  <thead>\n",
       "    <tr style=\"text-align: right;\">\n",
       "      <th></th>\n",
       "      <th>sepal_length</th>\n",
       "      <th>sepal_width</th>\n",
       "      <th>petal_length</th>\n",
       "      <th>petal_width</th>\n",
       "    </tr>\n",
       "  </thead>\n",
       "  <tbody>\n",
       "    <tr>\n",
       "      <th>sepal_length</th>\n",
       "      <td>1.000000</td>\n",
       "      <td>-0.117570</td>\n",
       "      <td>0.871754</td>\n",
       "      <td>0.817941</td>\n",
       "    </tr>\n",
       "    <tr>\n",
       "      <th>sepal_width</th>\n",
       "      <td>-0.117570</td>\n",
       "      <td>1.000000</td>\n",
       "      <td>-0.428440</td>\n",
       "      <td>-0.366126</td>\n",
       "    </tr>\n",
       "    <tr>\n",
       "      <th>petal_length</th>\n",
       "      <td>0.871754</td>\n",
       "      <td>-0.428440</td>\n",
       "      <td>1.000000</td>\n",
       "      <td>0.962865</td>\n",
       "    </tr>\n",
       "    <tr>\n",
       "      <th>petal_width</th>\n",
       "      <td>0.817941</td>\n",
       "      <td>-0.366126</td>\n",
       "      <td>0.962865</td>\n",
       "      <td>1.000000</td>\n",
       "    </tr>\n",
       "  </tbody>\n",
       "</table>\n",
       "</div>"
      ],
      "text/plain": [
       "              sepal_length  sepal_width  petal_length  petal_width\n",
       "sepal_length      1.000000    -0.117570      0.871754     0.817941\n",
       "sepal_width      -0.117570     1.000000     -0.428440    -0.366126\n",
       "petal_length      0.871754    -0.428440      1.000000     0.962865\n",
       "petal_width       0.817941    -0.366126      0.962865     1.000000"
      ]
     },
     "execution_count": 69,
     "metadata": {},
     "output_type": "execute_result"
    }
   ],
   "source": [
    "df.corr()"
   ]
  },
  {
   "cell_type": "code",
   "execution_count": 1,
   "id": "0772f46a",
   "metadata": {},
   "outputs": [
    {
     "ename": "NameError",
     "evalue": "name 'sns' is not defined",
     "output_type": "error",
     "traceback": [
      "\u001b[1;31m---------------------------------------------------------------------------\u001b[0m",
      "\u001b[1;31mNameError\u001b[0m                                 Traceback (most recent call last)",
      "\u001b[1;32m~\\AppData\\Local\\Temp/ipykernel_21240/4185451203.py\u001b[0m in \u001b[0;36m<module>\u001b[1;34m\u001b[0m\n\u001b[1;32m----> 1\u001b[1;33m \u001b[0msns\u001b[0m\u001b[1;33m.\u001b[0m\u001b[0mpairplot\u001b[0m\u001b[1;33m(\u001b[0m\u001b[0mdf\u001b[0m\u001b[1;33m)\u001b[0m\u001b[1;33m\u001b[0m\u001b[1;33m\u001b[0m\u001b[0m\n\u001b[0m",
      "\u001b[1;31mNameError\u001b[0m: name 'sns' is not defined"
     ]
    }
   ],
   "source": [
    "sns.pairplot(df)"
   ]
  },
  {
   "cell_type": "code",
   "execution_count": null,
   "id": "c6be5fa6",
   "metadata": {},
   "outputs": [],
   "source": []
  }
 ],
 "metadata": {
  "kernelspec": {
   "display_name": "Python 3 (ipykernel)",
   "language": "python",
   "name": "python3"
  },
  "language_info": {
   "codemirror_mode": {
    "name": "ipython",
    "version": 3
   },
   "file_extension": ".py",
   "mimetype": "text/x-python",
   "name": "python",
   "nbconvert_exporter": "python",
   "pygments_lexer": "ipython3",
   "version": "3.9.7"
  }
 },
 "nbformat": 4,
 "nbformat_minor": 5
}
